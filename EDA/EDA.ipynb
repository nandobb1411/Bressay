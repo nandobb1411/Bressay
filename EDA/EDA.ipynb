{
 "cells": [
  {
   "cell_type": "markdown",
   "metadata": {},
   "source": [
    "# EDA - Exploratory Data Analysis"
   ]
  },
  {
   "cell_type": "code",
   "execution_count": 21,
   "metadata": {},
   "outputs": [],
   "source": [
    "# Put all imports here\n",
    "\n",
    "import os\n",
    "import pandas as pd"
   ]
  },
  {
   "cell_type": "code",
   "execution_count": 22,
   "metadata": {},
   "outputs": [],
   "source": [
    "#Define function to get full path of the data file\n",
    "\n",
    "def get_full_path_from_file_name(data_file_name, data_folder_name, data_dimension_name):\n",
    "    data_path = os.path.abspath(\"EDA\")\n",
    "    data_root_path = os.path.dirname(os.path.dirname(data_path)) + '/project_data/bressay/data'\n",
    "    full_path_of_file = data_root_path + '/' + data_dimension_name + '/' + data_folder_name + '/' + data_file_name\n",
    "    return full_path_of_file"
   ]
  },
  {
   "cell_type": "code",
   "execution_count": 23,
   "metadata": {},
   "outputs": [
    {
     "name": "stdout",
     "output_type": "stream",
     "text": [
      "no ambiente virtual, --xxx-- mas também no real.\n"
     ]
    }
   ],
   "source": [
    "full_path_of_file = get_full_path_from_file_name(data_file_name='0017_02_09.txt', data_folder_name='0017', data_dimension_name='lines')\n",
    "\n",
    "with open(full_path_of_file, encoding = \"utf-8\") as f:\n",
    "    data_text = f.readlines()\n",
    "\n",
    "data_text = data_text[0]\n",
    "\n",
    "print(data_text)"
   ]
  }
 ],
 "metadata": {
  "kernelspec": {
   "display_name": "venv_icdar",
   "language": "python",
   "name": "python3"
  },
  "language_info": {
   "codemirror_mode": {
    "name": "ipython",
    "version": 3
   },
   "file_extension": ".py",
   "mimetype": "text/x-python",
   "name": "python",
   "nbconvert_exporter": "python",
   "pygments_lexer": "ipython3",
   "version": "3.11.3"
  }
 },
 "nbformat": 4,
 "nbformat_minor": 2
}
