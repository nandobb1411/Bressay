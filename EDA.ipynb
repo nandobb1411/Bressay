{
 "cells": [
  {
   "cell_type": "code",
   "execution_count": 15,
   "metadata": {},
   "outputs": [],
   "source": [
    "import pandas as pd\n",
    "import cv2 as cv\n",
    "import os"
   ]
  },
  {
   "cell_type": "code",
   "execution_count": 16,
   "metadata": {},
   "outputs": [],
   "source": [
    "with open(r'data\\bressay\\sets\\test.txt', 'r') as file:\n",
    "    test_content = file.readlines()\n",
    "\n",
    "with open(r'data\\bressay\\sets\\training.txt', 'r') as file:\n",
    "    training_content = file.readlines()\n",
    "\n",
    "with open(r'data\\bressay\\sets\\validation.txt', 'r') as file:\n",
    "    validation_content = file.readlines()\n",
    "\n"
   ]
  },
  {
   "cell_type": "code",
   "execution_count": null,
   "metadata": {},
   "outputs": [],
   "source": [
    "# counter_rasura = 0\n",
    "# if \"--xxx---\" in data_text:\n",
    "#     counter_rasura += 1"
   ]
  },
  {
   "cell_type": "markdown",
   "metadata": {},
   "source": [
    "# Extracting line dataset"
   ]
  },
  {
   "cell_type": "code",
   "execution_count": 26,
   "metadata": {},
   "outputs": [],
   "source": [
    "lines_directory = r'data\\bressay\\data\\lines'\n",
    "test_files = {}\n",
    "training_files = {}\n",
    "validation_files = {}\n",
    "\n",
    "def collect_file_paths(dir_name, base_path):\n",
    "    file_paths = {'txt': []}\n",
    "    full_path = os.path.join(base_path, dir_name)\n",
    "    if os.path.isdir(full_path):\n",
    "        for file in os.listdir(full_path):\n",
    "            if file.endswith('.txt'):\n",
    "                file_paths['txt'].append(os.path.join(full_path, file))\n",
    "    return file_paths\n",
    "\n",
    "\n",
    "\n",
    "for dir_name in test_content:\n",
    "    dir_name = dir_name.strip()\n",
    "    test_files[dir_name] = collect_file_paths(dir_name, lines_directory)\n",
    "\n",
    "for dir_name in training_content:\n",
    "    dir_name = dir_name.strip()\n",
    "    training_files[dir_name] = collect_file_paths(dir_name, lines_directory)\n",
    "\n",
    "for dir_name in validation_content:\n",
    "    dir_name = dir_name.strip()\n",
    "    validation_files[dir_name] = collect_file_paths(dir_name, lines_directory)\n",
    "\n",
    "\n",
    "    "
   ]
  },
  {
   "cell_type": "code",
   "execution_count": 27,
   "metadata": {},
   "outputs": [
    {
     "data": {
      "text/plain": [
       "[('0087',\n",
       "  {'txt': ['data\\\\bressay\\\\data\\\\lines\\\\0087\\\\0087_01_01.txt',\n",
       "    'data\\\\bressay\\\\data\\\\lines\\\\0087\\\\0087_01_02.txt',\n",
       "    'data\\\\bressay\\\\data\\\\lines\\\\0087\\\\0087_01_03.txt',\n",
       "    'data\\\\bressay\\\\data\\\\lines\\\\0087\\\\0087_01_04.txt',\n",
       "    'data\\\\bressay\\\\data\\\\lines\\\\0087\\\\0087_01_05.txt',\n",
       "    'data\\\\bressay\\\\data\\\\lines\\\\0087\\\\0087_01_06.txt',\n",
       "    'data\\\\bressay\\\\data\\\\lines\\\\0087\\\\0087_02_01.txt',\n",
       "    'data\\\\bressay\\\\data\\\\lines\\\\0087\\\\0087_02_02.txt',\n",
       "    'data\\\\bressay\\\\data\\\\lines\\\\0087\\\\0087_02_03.txt',\n",
       "    'data\\\\bressay\\\\data\\\\lines\\\\0087\\\\0087_02_04.txt',\n",
       "    'data\\\\bressay\\\\data\\\\lines\\\\0087\\\\0087_02_05.txt',\n",
       "    'data\\\\bressay\\\\data\\\\lines\\\\0087\\\\0087_02_06.txt',\n",
       "    'data\\\\bressay\\\\data\\\\lines\\\\0087\\\\0087_02_07.txt',\n",
       "    'data\\\\bressay\\\\data\\\\lines\\\\0087\\\\0087_02_08.txt',\n",
       "    'data\\\\bressay\\\\data\\\\lines\\\\0087\\\\0087_03_01.txt',\n",
       "    'data\\\\bressay\\\\data\\\\lines\\\\0087\\\\0087_03_02.txt',\n",
       "    'data\\\\bressay\\\\data\\\\lines\\\\0087\\\\0087_03_03.txt',\n",
       "    'data\\\\bressay\\\\data\\\\lines\\\\0087\\\\0087_03_04.txt',\n",
       "    'data\\\\bressay\\\\data\\\\lines\\\\0087\\\\0087_03_05.txt',\n",
       "    'data\\\\bressay\\\\data\\\\lines\\\\0087\\\\0087_03_06.txt',\n",
       "    'data\\\\bressay\\\\data\\\\lines\\\\0087\\\\0087_03_07.txt',\n",
       "    'data\\\\bressay\\\\data\\\\lines\\\\0087\\\\0087_03_08.txt',\n",
       "    'data\\\\bressay\\\\data\\\\lines\\\\0087\\\\0087_04_01.txt',\n",
       "    'data\\\\bressay\\\\data\\\\lines\\\\0087\\\\0087_04_02.txt',\n",
       "    'data\\\\bressay\\\\data\\\\lines\\\\0087\\\\0087_04_03.txt',\n",
       "    'data\\\\bressay\\\\data\\\\lines\\\\0087\\\\0087_04_04.txt',\n",
       "    'data\\\\bressay\\\\data\\\\lines\\\\0087\\\\0087_04_05.txt',\n",
       "    'data\\\\bressay\\\\data\\\\lines\\\\0087\\\\0087_04_06.txt',\n",
       "    'data\\\\bressay\\\\data\\\\lines\\\\0087\\\\0087_04_07.txt',\n",
       "    'data\\\\bressay\\\\data\\\\lines\\\\0087\\\\0087_04_08.txt']}),\n",
       " ('0017',\n",
       "  {'txt': ['data\\\\bressay\\\\data\\\\lines\\\\0017\\\\0017_01_01.txt',\n",
       "    'data\\\\bressay\\\\data\\\\lines\\\\0017\\\\0017_01_02.txt',\n",
       "    'data\\\\bressay\\\\data\\\\lines\\\\0017\\\\0017_01_03.txt',\n",
       "    'data\\\\bressay\\\\data\\\\lines\\\\0017\\\\0017_01_04.txt',\n",
       "    'data\\\\bressay\\\\data\\\\lines\\\\0017\\\\0017_01_05.txt',\n",
       "    'data\\\\bressay\\\\data\\\\lines\\\\0017\\\\0017_01_06.txt',\n",
       "    'data\\\\bressay\\\\data\\\\lines\\\\0017\\\\0017_01_07.txt',\n",
       "    'data\\\\bressay\\\\data\\\\lines\\\\0017\\\\0017_02_01.txt',\n",
       "    'data\\\\bressay\\\\data\\\\lines\\\\0017\\\\0017_02_02.txt',\n",
       "    'data\\\\bressay\\\\data\\\\lines\\\\0017\\\\0017_02_03.txt',\n",
       "    'data\\\\bressay\\\\data\\\\lines\\\\0017\\\\0017_02_04.txt',\n",
       "    'data\\\\bressay\\\\data\\\\lines\\\\0017\\\\0017_02_05.txt',\n",
       "    'data\\\\bressay\\\\data\\\\lines\\\\0017\\\\0017_02_06.txt',\n",
       "    'data\\\\bressay\\\\data\\\\lines\\\\0017\\\\0017_02_07.txt',\n",
       "    'data\\\\bressay\\\\data\\\\lines\\\\0017\\\\0017_02_08.txt',\n",
       "    'data\\\\bressay\\\\data\\\\lines\\\\0017\\\\0017_02_09.txt',\n",
       "    'data\\\\bressay\\\\data\\\\lines\\\\0017\\\\0017_03_01.txt',\n",
       "    'data\\\\bressay\\\\data\\\\lines\\\\0017\\\\0017_03_02.txt',\n",
       "    'data\\\\bressay\\\\data\\\\lines\\\\0017\\\\0017_03_03.txt',\n",
       "    'data\\\\bressay\\\\data\\\\lines\\\\0017\\\\0017_03_04.txt',\n",
       "    'data\\\\bressay\\\\data\\\\lines\\\\0017\\\\0017_03_05.txt',\n",
       "    'data\\\\bressay\\\\data\\\\lines\\\\0017\\\\0017_03_06.txt',\n",
       "    'data\\\\bressay\\\\data\\\\lines\\\\0017\\\\0017_03_07.txt',\n",
       "    'data\\\\bressay\\\\data\\\\lines\\\\0017\\\\0017_03_08.txt',\n",
       "    'data\\\\bressay\\\\data\\\\lines\\\\0017\\\\0017_04_01.txt',\n",
       "    'data\\\\bressay\\\\data\\\\lines\\\\0017\\\\0017_04_02.txt',\n",
       "    'data\\\\bressay\\\\data\\\\lines\\\\0017\\\\0017_04_03.txt',\n",
       "    'data\\\\bressay\\\\data\\\\lines\\\\0017\\\\0017_04_04.txt',\n",
       "    'data\\\\bressay\\\\data\\\\lines\\\\0017\\\\0017_04_05.txt',\n",
       "    'data\\\\bressay\\\\data\\\\lines\\\\0017\\\\0017_04_06.txt']})]"
      ]
     },
     "execution_count": 27,
     "metadata": {},
     "output_type": "execute_result"
    }
   ],
   "source": [
    "list(training_files.items())[:2]"
   ]
  }
 ],
 "metadata": {
  "kernelspec": {
   "display_name": "ML",
   "language": "python",
   "name": "python3"
  },
  "language_info": {
   "codemirror_mode": {
    "name": "ipython",
    "version": 3
   },
   "file_extension": ".py",
   "mimetype": "text/x-python",
   "name": "python",
   "nbconvert_exporter": "python",
   "pygments_lexer": "ipython3",
   "version": "3.9.18"
  }
 },
 "nbformat": 4,
 "nbformat_minor": 2
}
